{
 "cells": [
  {
   "cell_type": "markdown",
   "metadata": {},
   "source": [
    "## About Me Lab: AI Engineering, Data Analytics & Data Science\n",
    "\n",
    "In this notebook, you'll write a short introduction about yourself using Python!\n",
    "\n",
    "### Instructions:\n",
    "- Fill in the variables below with your details.\n",
    "- Run the cell to print your introduction.\n",
    "\n",
    "### What to Include:\n",
    "- Your name.\n",
    "- Why you're interested in AI Engineering, Data Analytics or Data Science.\n",
    "- A fun fact about yourself or a goal for this course.\n"
   ]
  },
  {
   "cell_type": "code",
   "execution_count": 12,
   "metadata": {},
   "outputs": [
    {
     "name": "stdout",
     "output_type": "stream",
     "text": [
      "Hi! My name is Chandler Shortlidge.\n",
      "I live in Berlin and I'm currently unemployed.\n",
      "I have some previous experience in tech as a UX writer.\n",
      "I was motivated to join Ironhack in order to learn how to build AI apps and chatbots,\n",
      "and I hope to learn things like {motivations}.\n",
      "After the course, I hope to get a job working in data analytics or AI engineeringworking with AI, building dashboards, running A/B tests,\n",
      "becuase my career goal is to to work with data and AI.\n"
     ]
    }
   ],
   "source": [
    "# Who am I\n",
    "name = \"Chandler Shortlidge\"\n",
    "\n",
    "# Where are you from? What do you do? Previous tech experience?\n",
    "location = \"Berlin\"\n",
    "job = \"unemployed\"\n",
    "experience = \"UX writer\"\n",
    "\n",
    "# Why am I here\n",
    "\n",
    "ironhack_motivation = \"learn how to build AI apps and chatbots\"\n",
    "motivations = \"coding in Python, RAG, databases, APIs\"\n",
    "\n",
    "# What will I do after the course?\n",
    "\n",
    "employment = \"data analytics or AI engineering\"\n",
    "future_role = \"working with AI, building dashboards, running A/B tests\"\n",
    "career_goal = \"to work with data and AI\"\n",
    "\n",
    "print(f\"Hi! My name is {name}.\") \n",
    "print (f\"I live in {location} and I'm currently {job}.\") \n",
    "print (f\"I have some previous experience in tech as a {experience}.\") \n",
    "print (f\"I was motivated to join Ironhack in order to {ironhack_motivation},\") \n",
    "print (\"and I hope to learn things like {motivations}.\") \n",
    "print (f\"After the course, I hope to get a job working in {employment}{future_role},\") \n",
    "print (f\"becuase my career goal is to {career_goal}.\")"
   ]
  }
 ],
 "metadata": {
  "kernelspec": {
   "display_name": "Python 3",
   "language": "python",
   "name": "python3"
  },
  "language_info": {
   "codemirror_mode": {
    "name": "ipython",
    "version": 3
   },
   "file_extension": ".py",
   "mimetype": "text/x-python",
   "name": "python",
   "nbconvert_exporter": "python",
   "pygments_lexer": "ipython3",
   "version": "3.13.3"
  }
 },
 "nbformat": 4,
 "nbformat_minor": 2
}
